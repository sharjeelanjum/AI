{
 "cells": [
  {
   "cell_type": "code",
   "execution_count": 19,
   "metadata": {},
   "outputs": [
    {
     "name": "stdout",
     "output_type": "stream",
     "text": [
      "Enter first number: 4\n",
      "Enter second number: 5\n",
      "The addition is: \n",
      "9\n",
      "The subtraction  is: \n",
      "-1\n",
      "The multiplication is: \n",
      "20\n",
      "The division is: \n",
      "0.8\n"
     ]
    }
   ],
   "source": [
    "a= int(input(\"Enter first number: \"))\n",
    "b=int(input(\"Enter second number: \"))\n",
    "add=a+b\n",
    "print(\"The addition is: \")\n",
    "print(add)\n",
    "sub=a-b\n",
    "print(\"The subtraction  is: \")\n",
    "print(sub)\n",
    "mul=a*b\n",
    "print(\"The multiplication is: \")\n",
    "print(mul)\n",
    "div=a/b\n",
    "print(\"The division is: \")\n",
    "print(div)\n"
   ]
  },
  {
   "cell_type": "code",
   "execution_count": null,
   "metadata": {},
   "outputs": [],
   "source": []
  }
 ],
 "metadata": {
  "kernelspec": {
   "display_name": "Python 3",
   "language": "python",
   "name": "python3"
  },
  "language_info": {
   "codemirror_mode": {
    "name": "ipython",
    "version": 3
   },
   "file_extension": ".py",
   "mimetype": "text/x-python",
   "name": "python",
   "nbconvert_exporter": "python",
   "pygments_lexer": "ipython3",
   "version": "3.7.4"
  }
 },
 "nbformat": 4,
 "nbformat_minor": 2
}
