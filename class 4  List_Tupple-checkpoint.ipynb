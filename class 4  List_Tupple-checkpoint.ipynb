{
 "cells": [
  {
   "cell_type": "markdown",
   "metadata": {},
   "source": [
    "# List"
   ]
  },
  {
   "cell_type": "code",
   "execution_count": 13,
   "metadata": {},
   "outputs": [
    {
     "name": "stdout",
     "output_type": "stream",
     "text": [
      "['sharjeel', 'BSCS', 3.4, '923135025995']\n"
     ]
    },
    {
     "data": {
      "text/plain": [
       "['__add__',\n",
       " '__class__',\n",
       " '__contains__',\n",
       " '__delattr__',\n",
       " '__delitem__',\n",
       " '__dir__',\n",
       " '__doc__',\n",
       " '__eq__',\n",
       " '__format__',\n",
       " '__ge__',\n",
       " '__getattribute__',\n",
       " '__getitem__',\n",
       " '__gt__',\n",
       " '__hash__',\n",
       " '__iadd__',\n",
       " '__imul__',\n",
       " '__init__',\n",
       " '__init_subclass__',\n",
       " '__iter__',\n",
       " '__le__',\n",
       " '__len__',\n",
       " '__lt__',\n",
       " '__mul__',\n",
       " '__ne__',\n",
       " '__new__',\n",
       " '__reduce__',\n",
       " '__reduce_ex__',\n",
       " '__repr__',\n",
       " '__reversed__',\n",
       " '__rmul__',\n",
       " '__setattr__',\n",
       " '__setitem__',\n",
       " '__sizeof__',\n",
       " '__str__',\n",
       " '__subclasshook__',\n",
       " 'append',\n",
       " 'clear',\n",
       " 'copy',\n",
       " 'count',\n",
       " 'extend',\n",
       " 'index',\n",
       " 'insert',\n",
       " 'pop',\n",
       " 'remove',\n",
       " 'reverse',\n",
       " 'sort']"
      ]
     },
     "execution_count": 13,
     "metadata": {},
     "output_type": "execute_result"
    }
   ],
   "source": [
    "student=[\"sharjeel\", \"BSCS\", 3.4,\"923135025995\"]\n",
    "print(student)\n",
    "dir(list)"
   ]
  },
  {
   "cell_type": "code",
   "execution_count": 20,
   "metadata": {},
   "outputs": [
    {
     "name": "stdout",
     "output_type": "stream",
     "text": [
      "['anjum', 'ahmed', 'shiji']\n",
      "[]\n"
     ]
    }
   ],
   "source": [
    "names=[\"anjum\",\"ahmed\"]\n",
    "names.append(\"shiji\")\n",
    "print(names)\n",
    "names.clear()\n",
    "print(names)\n"
   ]
  },
  {
   "cell_type": "code",
   "execution_count": 21,
   "metadata": {},
   "outputs": [
    {
     "name": "stdout",
     "output_type": "stream",
     "text": [
      "['anjum', 'ahmed', 'shiji']\n"
     ]
    }
   ],
   "source": [
    "names=[\"anjum\",\"ahmed\"]\n",
    "names.append(\"shiji\")\n",
    "print(names)"
   ]
  },
  {
   "cell_type": "code",
   "execution_count": 25,
   "metadata": {},
   "outputs": [
    {
     "name": "stdout",
     "output_type": "stream",
     "text": [
      "['anjum', 'ahmed', 'shiji']\n",
      "['anjum', 'ahmed', 'shiji']\n",
      "['ali', 'ahmed', 'shiji']\n",
      "['ali', 'ahmed', 'shiji']\n"
     ]
    }
   ],
   "source": [
    "names=[\"anjum\",\"ahmed\"]\n",
    "names.append(\"shiji\")\n",
    "print(names)\n",
    "names1=names\n",
    "print(names1)\n",
    "names1[0]= \"ali\"\n",
    "print(names1)\n",
    "print(names)\n",
    "#using this it cause logical error due to changing value 1 it cause in all copies so use copy function."
   ]
  },
  {
   "cell_type": "code",
   "execution_count": 32,
   "metadata": {},
   "outputs": [
    {
     "name": "stdout",
     "output_type": "stream",
     "text": [
      "['anjum', 'ahmed', 'shiji']\n",
      "[]\n",
      "['anjum', 'ahmed', 'shiji']\n"
     ]
    },
    {
     "data": {
      "text/plain": [
       "1"
      ]
     },
     "execution_count": 32,
     "metadata": {},
     "output_type": "execute_result"
    }
   ],
   "source": [
    "names=[\"anjum\",\"ahmed\"]\n",
    "names.append(\"shiji\")\n",
    "print(names)\n",
    "names1=[]\n",
    "print(names1)\n",
    "names1=names.copy()\n",
    "print(names1)\n",
    "names.count(\"anjum\")"
   ]
  },
  {
   "cell_type": "code",
   "execution_count": 52,
   "metadata": {},
   "outputs": [
    {
     "data": {
      "text/plain": [
       "1"
      ]
     },
     "execution_count": 52,
     "metadata": {},
     "output_type": "execute_result"
    }
   ],
   "source": [
    "names=[\"A\",\"B\"]\n",
    "names.count(\"A\")"
   ]
  },
  {
   "cell_type": "markdown",
   "metadata": {},
   "source": [
    "# append"
   ]
  },
  {
   "cell_type": "code",
   "execution_count": 48,
   "metadata": {},
   "outputs": [
    {
     "name": "stdout",
     "output_type": "stream",
     "text": [
      "None\n",
      "['c', 'd']\n",
      "['a', 'b', 'c', 'd']\n"
     ]
    }
   ],
   "source": [
    "l1=[\"a\",\"b\"]\n",
    "l2=[\"c\",\"d\"]\n",
    "l3=l1.extend(l2)\n",
    "print(l3) # in memory operation\n",
    "print(l2)\n",
    "print(l1)"
   ]
  },
  {
   "cell_type": "markdown",
   "metadata": {},
   "source": [
    "# index"
   ]
  },
  {
   "cell_type": "code",
   "execution_count": 50,
   "metadata": {},
   "outputs": [
    {
     "name": "stdout",
     "output_type": "stream",
     "text": [
      "['a', 'b', 'c', 'd']\n"
     ]
    },
    {
     "data": {
      "text/plain": [
       "3"
      ]
     },
     "execution_count": 50,
     "metadata": {},
     "output_type": "execute_result"
    }
   ],
   "source": [
    "print(l1)\n",
    "l1.index(\"d\",1) #return 1st index of same character but change by using index number whre we want to start"
   ]
  },
  {
   "cell_type": "code",
   "execution_count": 61,
   "metadata": {},
   "outputs": [
    {
     "name": "stdout",
     "output_type": "stream",
     "text": [
      "['Muhammad', 'Muhammad', 'Muhammad', 'Muhammad', 'Muhammad', 'a', 'b', 'c', 'd']\n"
     ]
    }
   ],
   "source": [
    "print(l1)\n"
   ]
  },
  {
   "cell_type": "code",
   "execution_count": 64,
   "metadata": {},
   "outputs": [
    {
     "name": "stdout",
     "output_type": "stream",
     "text": [
      "['a', 'b', 'x']\n",
      "['c', 'a', 'b', 'x']\n"
     ]
    }
   ],
   "source": [
    "list2=[\"a\",\"b\",\"x\"]\n",
    "print(list2)\n",
    "list2.insert(0,\"c\")\n",
    "print(list2)"
   ]
  },
  {
   "cell_type": "code",
   "execution_count": 65,
   "metadata": {},
   "outputs": [
    {
     "name": "stdout",
     "output_type": "stream",
     "text": [
      "['c', 'a', 'x']\n"
     ]
    }
   ],
   "source": [
    "#pop\n",
    "list2.pop(2)\n",
    "print(list2)"
   ]
  },
  {
   "cell_type": "code",
   "execution_count": 69,
   "metadata": {},
   "outputs": [
    {
     "name": "stdout",
     "output_type": "stream",
     "text": [
      "['a']\n"
     ]
    }
   ],
   "source": [
    "#remove with value but first value.\n",
    "list2.remove(\"c\")\n",
    "print(list2)"
   ]
  },
  {
   "cell_type": "code",
   "execution_count": 70,
   "metadata": {},
   "outputs": [
    {
     "name": "stdout",
     "output_type": "stream",
     "text": [
      "['A', 'b', 'c', 'd', 'Z', 'm']\n",
      "['m', 'Z', 'd', 'c', 'b', 'A']\n"
     ]
    }
   ],
   "source": [
    "list1=[\"A\",\"b\",\"c\",\"d\",\"Z\",\"m\"]\n",
    "print(list1)\n",
    "list1.reverse()\n",
    "print(list1)"
   ]
  },
  {
   "cell_type": "code",
   "execution_count": 72,
   "metadata": {},
   "outputs": [
    {
     "name": "stdout",
     "output_type": "stream",
     "text": [
      "['a', 'b', 'c', 'd', 'z', 'm']\n",
      "['a', 'b', 'c', 'd', 'm', 'z']\n"
     ]
    }
   ],
   "source": [
    "list1=[\"a\",\"b\",\"c\",\"d\",\"z\",\"m\"]\n",
    "print(list1)\n",
    "list1.sort()\n",
    "print(list1)"
   ]
  },
  {
   "cell_type": "code",
   "execution_count": 73,
   "metadata": {},
   "outputs": [
    {
     "name": "stdout",
     "output_type": "stream",
     "text": [
      "['a', 'b', 'c', 'd', 'z', 'm']\n",
      "['z', 'm', 'd', 'c', 'b', 'a']\n"
     ]
    }
   ],
   "source": [
    "#in decending order\n",
    "list1=[\"a\",\"b\",\"c\",\"d\",\"z\",\"m\"]\n",
    "print(list1)\n",
    "list1.sort(reverse=True)\n",
    "print(list1)"
   ]
  },
  {
   "cell_type": "code",
   "execution_count": 74,
   "metadata": {},
   "outputs": [
    {
     "data": {
      "text/plain": [
       "['A', 'B', 'C', 'D', 'D', 'E']"
      ]
     },
     "execution_count": 74,
     "metadata": {},
     "output_type": "execute_result"
    }
   ],
   "source": [
    "l1=[\"A\",\"B\",\"C\",\"D\"]\n",
    "l1.__add__([\"D\",\"E\"]) #just perform operation and does not change the orignal value(inline operation)\n"
   ]
  },
  {
   "cell_type": "code",
   "execution_count": 75,
   "metadata": {},
   "outputs": [
    {
     "data": {
      "text/plain": [
       "list"
      ]
     },
     "execution_count": 75,
     "metadata": {},
     "output_type": "execute_result"
    }
   ],
   "source": [
    "l1=[\"A\",\"B\",\"C\",\"D\"]\n",
    "l1.__class__"
   ]
  },
  {
   "cell_type": "code",
   "execution_count": 77,
   "metadata": {},
   "outputs": [
    {
     "name": "stdout",
     "output_type": "stream",
     "text": [
      "True\n"
     ]
    }
   ],
   "source": [
    "l1=[\"A\",\"B\",\"C\",\"D\"]\n",
    "print(l1.__contains__(\"A\"))\n"
   ]
  },
  {
   "cell_type": "code",
   "execution_count": null,
   "metadata": {},
   "outputs": [],
   "source": [
    "l1=[\"A\",\"B\",\"C\",\"D\"]\n",
    "l2=[\"A\",\"B\",\"C\",\"D\"]\n",
    "l3=['a','f']\n",
    "print(l1.__eq__(l2))\n",
    "print(l1.__eq__(l3))"
   ]
  },
  {
   "cell_type": "markdown",
   "metadata": {},
   "source": [
    "# Loop"
   ]
  },
  {
   "cell_type": "code",
   "execution_count": 85,
   "metadata": {},
   "outputs": [
    {
     "data": {
      "text/plain": [
       "['pakistan',\n",
       " 12,\n",
       " 'pakistan',\n",
       " 12,\n",
       " 'pakistan',\n",
       " 12,\n",
       " 'pakistan',\n",
       " 12,\n",
       " 'pakistan',\n",
       " 12,\n",
       " 'pakistan',\n",
       " 12,\n",
       " 'pakistan',\n",
       " 12,\n",
       " 'pakistan',\n",
       " 12,\n",
       " 'pakistan',\n",
       " 12,\n",
       " 'pakistan',\n",
       " 12,\n",
       " 'pakistan',\n",
       " 12,\n",
       " 'pakistan',\n",
       " 12,\n",
       " 'pakistan',\n",
       " 12,\n",
       " 'pakistan',\n",
       " 12,\n",
       " 'pakistan',\n",
       " 12,\n",
       " 'pakistan',\n",
       " 12,\n",
       " 'pakistan',\n",
       " 12,\n",
       " 'pakistan',\n",
       " 12,\n",
       " 'pakistan',\n",
       " 12,\n",
       " 'pakistan',\n",
       " 12,\n",
       " 'pakistan',\n",
       " 12,\n",
       " 'pakistan',\n",
       " 12,\n",
       " 'pakistan',\n",
       " 12,\n",
       " 'pakistan',\n",
       " 12,\n",
       " 'pakistan',\n",
       " 12,\n",
       " 'pakistan',\n",
       " 12,\n",
       " 'pakistan',\n",
       " 12,\n",
       " 'pakistan',\n",
       " 12,\n",
       " 'pakistan',\n",
       " 12,\n",
       " 'pakistan',\n",
       " 12,\n",
       " 'pakistan',\n",
       " 12,\n",
       " 'pakistan',\n",
       " 12,\n",
       " 'pakistan',\n",
       " 12,\n",
       " 'pakistan',\n",
       " 12,\n",
       " 'pakistan',\n",
       " 12,\n",
       " 'pakistan',\n",
       " 12,\n",
       " 'pakistan',\n",
       " 12,\n",
       " 'pakistan',\n",
       " 12,\n",
       " 'pakistan',\n",
       " 12,\n",
       " 'pakistan',\n",
       " 12,\n",
       " 'pakistan',\n",
       " 12,\n",
       " 'pakistan',\n",
       " 12,\n",
       " 'pakistan',\n",
       " 12,\n",
       " 'pakistan',\n",
       " 12,\n",
       " 'pakistan',\n",
       " 12,\n",
       " 'pakistan',\n",
       " 12,\n",
       " 'pakistan',\n",
       " 12,\n",
       " 'pakistan',\n",
       " 12,\n",
       " 'pakistan',\n",
       " 12,\n",
       " 'pakistan',\n",
       " 12,\n",
       " 'pakistan',\n",
       " 12,\n",
       " 'pakistan',\n",
       " 12,\n",
       " 'pakistan',\n",
       " 12,\n",
       " 'pakistan',\n",
       " 12,\n",
       " 'pakistan',\n",
       " 12,\n",
       " 'pakistan',\n",
       " 12,\n",
       " 'pakistan',\n",
       " 12,\n",
       " 'pakistan',\n",
       " 12,\n",
       " 'pakistan',\n",
       " 12,\n",
       " 'pakistan',\n",
       " 12,\n",
       " 'pakistan',\n",
       " 12,\n",
       " 'pakistan',\n",
       " 12,\n",
       " 'pakistan',\n",
       " 12,\n",
       " 'pakistan',\n",
       " 12,\n",
       " 'pakistan',\n",
       " 12,\n",
       " 'pakistan',\n",
       " 12,\n",
       " 'pakistan',\n",
       " 12,\n",
       " 'pakistan',\n",
       " 12,\n",
       " 'pakistan',\n",
       " 12,\n",
       " 'pakistan',\n",
       " 12,\n",
       " 'pakistan',\n",
       " 12,\n",
       " 'pakistan',\n",
       " 12,\n",
       " 'pakistan',\n",
       " 12,\n",
       " 'pakistan',\n",
       " 12,\n",
       " 'pakistan',\n",
       " 12,\n",
       " 'pakistan',\n",
       " 12,\n",
       " 'pakistan',\n",
       " 12,\n",
       " 'pakistan',\n",
       " 12,\n",
       " 'pakistan',\n",
       " 12,\n",
       " 'pakistan',\n",
       " 12,\n",
       " 'pakistan',\n",
       " 12,\n",
       " 'pakistan',\n",
       " 12,\n",
       " 'pakistan',\n",
       " 12,\n",
       " 'pakistan',\n",
       " 12,\n",
       " 'pakistan',\n",
       " 12,\n",
       " 'pakistan',\n",
       " 12,\n",
       " 'pakistan',\n",
       " 12,\n",
       " 'pakistan',\n",
       " 12,\n",
       " 'pakistan',\n",
       " 12,\n",
       " 'pakistan',\n",
       " 12,\n",
       " 'pakistan',\n",
       " 12,\n",
       " 'pakistan',\n",
       " 12,\n",
       " 'pakistan',\n",
       " 12,\n",
       " 'pakistan',\n",
       " 12,\n",
       " 'pakistan',\n",
       " 12,\n",
       " 'pakistan',\n",
       " 12,\n",
       " 'pakistan',\n",
       " 12,\n",
       " 'pakistan',\n",
       " 12,\n",
       " 'pakistan',\n",
       " 12,\n",
       " 'pakistan',\n",
       " 12]"
      ]
     },
     "execution_count": 85,
     "metadata": {},
     "output_type": "execute_result"
    }
   ],
   "source": [
    "[\"pakistan\",12] *100\n"
   ]
  },
  {
   "cell_type": "code",
   "execution_count": 91,
   "metadata": {},
   "outputs": [
    {
     "name": "stdout",
     "output_type": "stream",
     "text": [
      "Pakistan 1\n",
      "Pakistan 2\n",
      "Pakistan 3\n",
      "Pakistan 4\n",
      "Pakistan 5\n",
      "Pakistan 6\n",
      "Pakistan 7\n",
      "Pakistan 8\n",
      "Pakistan 9\n",
      "Pakistan 10\n",
      "Done\n"
     ]
    }
   ],
   "source": [
    "counter=1   #initialise\n",
    "while counter <= 10:  #logic\n",
    "    print(\"Pakistan\",counter)\n",
    "    counter +=1 #increment or decrement\n",
    "print(\"Done\")"
   ]
  },
  {
   "cell_type": "markdown",
   "metadata": {},
   "source": [
    "# For Loop"
   ]
  },
  {
   "cell_type": "code",
   "execution_count": null,
   "metadata": {},
   "outputs": [],
   "source": [
    "# (count, logic, increment)\n",
    "for i in range (1,11):\n",
    "    print(\"PAkistan\", i)"
   ]
  },
  {
   "cell_type": "code",
   "execution_count": null,
   "metadata": {},
   "outputs": [],
   "source": [
    "while(True):\n",
    "    print(\"dd\")\n",
    "    break"
   ]
  },
  {
   "cell_type": "markdown",
   "metadata": {},
   "source": [
    "# Tupple"
   ]
  },
  {
   "cell_type": "code",
   "execution_count": 3,
   "metadata": {},
   "outputs": [
    {
     "name": "stdout",
     "output_type": "stream",
     "text": [
      "2 X 1=2\n",
      "2 X 2=4\n",
      "2 X 3=6\n",
      "2 X 4=8\n",
      "2 X 5=10\n",
      "2 X 6=12\n",
      "2 X 7=14\n",
      "2 X 8=16\n",
      "2 X 9=18\n",
      "2 X 10=20\n"
     ]
    }
   ],
   "source": [
    "for i in range (1,11):\n",
    "    print(\"2 X \" + str(i)+ \"=\" +str(2*i))\n",
    "\n",
    "    \n"
   ]
  },
  {
   "cell_type": "markdown",
   "metadata": {},
   "source": [
    "# Example"
   ]
  },
  {
   "cell_type": "code",
   "execution_count": null,
   "metadata": {},
   "outputs": [],
   "source": [
    "enter=True\n",
    "list1=[]\n",
    "while(enter):\n",
    "     \n",
    "        name=input(\"Enter name\")\n",
    "        father_name=input(\"Enter Father name\")\n",
    "        Contact=input(\"Enter number\")\n",
    "        list1.append(name)\n",
    "        list1.append(father_name)\n",
    "        list1.append(Contact)\n",
    "        enter=input(\"Do you want again? y/n\")\n",
    "        if enter=='y' or enter ==\"Y\":\n",
    "        enter=True\n",
    "        else\n",
    "        break\n",
    "print(list1)"
   ]
  },
  {
   "cell_type": "code",
   "execution_count": 1,
   "metadata": {},
   "outputs": [
    {
     "name": "stdout",
     "output_type": "stream",
     "text": [
      "hellow\n"
     ]
    }
   ],
   "source": [
    "print(\"hellow\")\n"
   ]
  },
  {
   "cell_type": "code",
   "execution_count": 7,
   "metadata": {},
   "outputs": [
    {
     "name": "stdout",
     "output_type": "stream",
     "text": [
      "Enter number3\n",
      "\n",
      "\n",
      "1 X 1 = 1\n",
      "1 X 2 = 2\n",
      "1 X 3 = 3\n",
      "1 X 4 = 4\n",
      "1 X 5 = 5\n",
      "1 X 6 = 6\n",
      "1 X 7 = 7\n",
      "1 X 8 = 8\n",
      "1 X 9 = 9\n",
      "\n",
      "\n",
      "2 X 1 = 2\n",
      "2 X 2 = 4\n",
      "2 X 3 = 6\n",
      "2 X 4 = 8\n",
      "2 X 5 = 10\n",
      "2 X 6 = 12\n",
      "2 X 7 = 14\n",
      "2 X 8 = 16\n",
      "2 X 9 = 18\n",
      "\n",
      "\n",
      "3 X 1 = 3\n",
      "3 X 2 = 6\n",
      "3 X 3 = 9\n",
      "3 X 4 = 12\n",
      "3 X 5 = 15\n",
      "3 X 6 = 18\n",
      "3 X 7 = 21\n",
      "3 X 8 = 24\n",
      "3 X 9 = 27\n"
     ]
    }
   ],
   "source": [
    "no=int(input(\"Enter number\"))\n",
    "for table in range (1,no+1):\n",
    "    print(\"\\n\")\n",
    "    for i in range (1,10):\n",
    "         print( table,\"X\",i,\"=\",table*i)\n",
    "    \n",
    "\n",
    "    "
   ]
  },
  {
   "cell_type": "code",
   "execution_count": 1,
   "metadata": {},
   "outputs": [
    {
     "name": "stdout",
     "output_type": "stream",
     "text": [
      "5\n",
      "7\n",
      "10\n",
      "14\n",
      "15\n",
      "15\n",
      "20\n",
      "21\n",
      "25\n",
      "28\n",
      "30\n",
      "30\n",
      "35\n",
      "35\n",
      "40\n",
      "42\n",
      "45\n",
      "45\n",
      "49\n",
      "50\n",
      "55\n",
      "56\n",
      "60\n",
      "60\n",
      "63\n",
      "65\n",
      "70\n",
      "70\n",
      "75\n",
      "75\n",
      "77\n",
      "80\n",
      "84\n",
      "85\n",
      "90\n",
      "90\n",
      "91\n",
      "95\n",
      "98\n"
     ]
    }
   ],
   "source": [
    "for i in range (1,100):\n",
    "    if i% 5==0 :  \n",
    "        print(i)\n",
    "    if i% 15==0:\n",
    "        print(i)\n",
    "    if i%7==0:\n",
    "        print(i)\n",
    "    "
   ]
  },
  {
   "cell_type": "code",
   "execution_count": 13,
   "metadata": {},
   "outputs": [
    {
     "name": "stdout",
     "output_type": "stream",
     "text": [
      "Direct marketing\n"
     ]
    }
   ],
   "source": [
    "slap=True\n",
    "rich=True\n",
    "boy=True\n",
    "girl=True\n",
    "go=True\n",
    "your_wife=True\n",
    "marry=True\n",
    "friend=True\n",
    "her_husband =True\n",
    "if go==True and rich==True:\n",
    "    print(\"Direct marketing\")\n",
    "    \n",
    "elif friend == True and rich==True:\n",
    "    print(\"Advertising\")\n",
    "elif rich == True and slap==True:\n",
    "    print(\"Feedback\") \n",
    "elif girl==True  and rich == True:\n",
    "    print(\"Brand Recognition\")\n",
    "elif rich== True and  her_husband== True:\n",
    "    print(\"Demand and supply Gap\")\n",
    "elif rich==false and marry==false and your_wife==True:\n",
    "    print(\"Ristriction from marketing\")"
   ]
  },
  {
   "cell_type": "code",
   "execution_count": null,
   "metadata": {},
   "outputs": [],
   "source": []
  }
 ],
 "metadata": {
  "kernelspec": {
   "display_name": "Python 3",
   "language": "python",
   "name": "python3"
  },
  "language_info": {
   "codemirror_mode": {
    "name": "ipython",
    "version": 3
   },
   "file_extension": ".py",
   "mimetype": "text/x-python",
   "name": "python",
   "nbconvert_exporter": "python",
   "pygments_lexer": "ipython3",
   "version": "3.7.4"
  }
 },
 "nbformat": 4,
 "nbformat_minor": 2
}
