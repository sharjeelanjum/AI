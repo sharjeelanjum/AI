{
 "cells": [
  {
   "cell_type": "markdown",
   "metadata": {},
   "source": [
    " # Topic\n",
    "     -class\n",
    "     -instance\n",
    "     -method\n",
    "     -Attributes\n",
    "     "
   ]
  },
  {
   "cell_type": "code",
   "execution_count": 20,
   "metadata": {},
   "outputs": [
    {
     "name": "stdout",
     "output_type": "stream",
     "text": [
      "1 shiji \n",
      " 2 anjum \n",
      " 3 ahmed\n",
      "welcome shiji\n"
     ]
    }
   ],
   "source": [
    "class student():\n",
    "    \n",
    "    def __init__(self,sid):\n",
    "        self.sid=sid\n",
    "        self.user=\"\"\n",
    "        self.name=\"\"\n",
    "        self.fname=\"\"\n",
    "        self.course=\"\"\n",
    "        self.fee=0\n",
    "    def login(self, user,password):\n",
    "        self.user=user\n",
    "        print(\"welcome\", self.user)\n",
    "        \n",
    "    def logout(self):\n",
    "        pass\n",
    "    def forgetPassword(self):\n",
    "        pass\n",
    "s1 = student(1)\n",
    "s2 = student(2)\n",
    "s3 = student(3)\n",
    "s1.name=\"shiji\"\n",
    "s2.name=\"anjum\"\n",
    "s3.name=\"ahmed\"\n",
    "print(s1.sid,s1.name,\"\\n\",s2.sid,s2.name,\"\\n\",s3.sid,s3.name)\n",
    "s1.login(\"shiji\",\"123\")"
   ]
  },
  {
   "cell_type": "markdown",
   "metadata": {},
   "source": [
    "## init is used as replacing of constructer "
   ]
  },
  {
   "cell_type": "code",
   "execution_count": 25,
   "metadata": {},
   "outputs": [
    {
     "name": "stdout",
     "output_type": "stream",
     "text": [
      "abcd\n"
     ]
    }
   ],
   "source": [
    "s1.DOB= \"abcd\"\n",
    "print(s1.DOB)\n",
    "del s1.DOB\n"
   ]
  },
  {
   "cell_type": "markdown",
   "metadata": {},
   "source": [
    "# Inheritence"
   ]
  },
  {
   "cell_type": "code",
   "execution_count": 46,
   "metadata": {},
   "outputs": [],
   "source": [
    "class parent():\n",
    "    \n",
    "    def __init__(self):\n",
    "        self.name=\"\"\n",
    "        self.fname=\"\"\n",
    "        \n",
    "    def speak(self,words=\"\"):\n",
    "        print(words,\"...\")\n",
    "        \n",
    "    def eat(seld, food=\"roti\"):\n",
    "        print(food)\n",
    "        \n",
    "        \n",
    "        \n",
    "class Child (parent):\n",
    "    pass\n",
    "\n",
    "p_obj1=parent()\n",
    "p_obj1.name=\"abc\"\n"
   ]
  },
  {
   "cell_type": "code",
   "execution_count": 56,
   "metadata": {},
   "outputs": [
    {
     "name": "stdout",
     "output_type": "stream",
     "text": [
      "shiji Male\n",
      "Eating\n"
     ]
    }
   ],
   "source": [
    "class father():\n",
    "    def __init__(self):\n",
    "        self.name=\"\"\n",
    "        self.gender=\"\"\n",
    "    def eating(self):\n",
    "        print(\"Eating\")\n",
    "        \n",
    "class mother():\n",
    "    def __init__(self):\n",
    "        self.name=\"\"\n",
    "        self.gender=\"\"\n",
    "    def eating(self):\n",
    "        print(\"Mother helping for food\")\n",
    "        \n",
    "class Child(father,mother):\n",
    "    pass\n",
    "\n",
    "\n",
    "c1=Child()\n",
    "c1.name=\"shiji\"\n",
    "c1.gender=\"Male\"\n",
    "print(c1.name,c1.gender)\n",
    "c1.eating()"
   ]
  },
  {
   "cell_type": "markdown",
   "metadata": {},
   "source": [
    "# Polymorphism"
   ]
  },
  {
   "cell_type": "code",
   "execution_count": 59,
   "metadata": {},
   "outputs": [
    {
     "ename": "TypeError",
     "evalue": "abc() missing 1 required positional argument: 'b'",
     "output_type": "error",
     "traceback": [
      "\u001b[1;31m---------------------------------------------------------------------------\u001b[0m",
      "\u001b[1;31mTypeError\u001b[0m                                 Traceback (most recent call last)",
      "\u001b[1;32m<ipython-input-59-a1670b7c944a>\u001b[0m in \u001b[0;36m<module>\u001b[1;34m\u001b[0m\n\u001b[0;32m      6\u001b[0m \u001b[1;33m\u001b[0m\u001b[0m\n\u001b[0;32m      7\u001b[0m \u001b[0mob\u001b[0m\u001b[1;33m=\u001b[0m\u001b[0mA\u001b[0m\u001b[1;33m(\u001b[0m\u001b[1;33m)\u001b[0m\u001b[1;33m\u001b[0m\u001b[1;33m\u001b[0m\u001b[0m\n\u001b[1;32m----> 8\u001b[1;33m \u001b[0mob\u001b[0m\u001b[1;33m.\u001b[0m\u001b[0mabc\u001b[0m\u001b[1;33m(\u001b[0m\u001b[1;36m2\u001b[0m\u001b[1;33m)\u001b[0m\u001b[1;33m\u001b[0m\u001b[1;33m\u001b[0m\u001b[0m\n\u001b[0m",
      "\u001b[1;31mTypeError\u001b[0m: abc() missing 1 required positional argument: 'b'"
     ]
    }
   ],
   "source": [
    "class A():\n",
    "    def abc(self,a):\n",
    "        print(a)\n",
    "    def abc(self,a,b):\n",
    "        print(a + b)\n",
    "        \n",
    "ob=A()\n",
    "ob.abc(2)"
   ]
  },
  {
   "cell_type": "code",
   "execution_count": null,
   "metadata": {},
   "outputs": [],
   "source": []
  }
 ],
 "metadata": {
  "kernelspec": {
   "display_name": "Python 3",
   "language": "python",
   "name": "python3"
  },
  "language_info": {
   "codemirror_mode": {
    "name": "ipython",
    "version": 3
   },
   "file_extension": ".py",
   "mimetype": "text/x-python",
   "name": "python",
   "nbconvert_exporter": "python",
   "pygments_lexer": "ipython3",
   "version": "3.7.4"
  }
 },
 "nbformat": 4,
 "nbformat_minor": 2
}
