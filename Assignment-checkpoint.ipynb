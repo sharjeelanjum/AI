{
 "cells": [
  {
   "cell_type": "markdown",
   "metadata": {},
   "source": [
    "# Task 1: KEy value pair adding in dictionary"
   ]
  },
  {
   "cell_type": "code",
   "execution_count": 1,
   "metadata": {},
   "outputs": [
    {
     "name": "stdout",
     "output_type": "stream",
     "text": [
      "Enter key:name\n",
      "Enter value to the key:shiji\n"
     ]
    },
    {
     "data": {
      "text/plain": [
       "{'name': 'shiji'}"
      ]
     },
     "execution_count": 1,
     "metadata": {},
     "output_type": "execute_result"
    }
   ],
   "source": [
    "key =input(\"Enter key:\")\n",
    "value = input(\"Enter value to the key:\")\n",
    "\n",
    "dict1={};\n",
    "dict1.update({key:value})\n",
    "dict1\n",
    "\n"
   ]
  },
  {
   "cell_type": "markdown",
   "metadata": {},
   "source": [
    "# Concating two dictionaries"
   ]
  },
  {
   "cell_type": "code",
   "execution_count": 2,
   "metadata": {},
   "outputs": [
    {
     "data": {
      "text/plain": [
       "{'name': 'sharjeel',\n",
       " 'f_name': 'Haji ahmed',\n",
       " 'university': 'UAAR',\n",
       " 'Semester': '7th'}"
      ]
     },
     "execution_count": 2,
     "metadata": {},
     "output_type": "execute_result"
    }
   ],
   "source": [
    "dict1={'name':\"sharjeel\", 'f_name':\"Haji ahmed\"} \n",
    "dict2={'university':\"UAAR\",'Semester':\"7th\"} \n",
    "dict1.update(dict2) \n",
    "dict1"
   ]
  },
  {
   "cell_type": "markdown",
   "metadata": {},
   "source": [
    "# Alternative for task 2"
   ]
  },
  {
   "cell_type": "code",
   "execution_count": 3,
   "metadata": {},
   "outputs": [
    {
     "name": "stdout",
     "output_type": "stream",
     "text": [
      "Enter key:name\n",
      "Enter value to the key:sharjeel\n",
      "Enter key for dictionary 2:university\n",
      "Enter value for dictionary 2:uaar\n"
     ]
    },
    {
     "data": {
      "text/plain": [
       "{'name': 'sharjeel', 'university': 'uaar'}"
      ]
     },
     "execution_count": 3,
     "metadata": {},
     "output_type": "execute_result"
    }
   ],
   "source": [
    "key =input(\"Enter key:\")\n",
    "value = input(\"Enter value to the key:\")\n",
    "dict1={}\n",
    "dict1.update({key:value})\n",
    "dict2={}\n",
    "key2=input(\"Enter key for dictionary 2:\")\n",
    "value2=input(\"Enter value for dictionary 2:\")\n",
    "dict2.update({key2:value2})\n",
    "dict1.update(dict2)\n",
    "dict1\n"
   ]
  },
  {
   "cell_type": "markdown",
   "metadata": {},
   "source": [
    "# Task3 Check a given key exist in dictionary or not"
   ]
  },
  {
   "cell_type": "code",
   "execution_count": 4,
   "metadata": {},
   "outputs": [
    {
     "data": {
      "text/plain": [
       "{'name': 'sharjeel', 'university': 'uaar'}"
      ]
     },
     "execution_count": 4,
     "metadata": {},
     "output_type": "execute_result"
    }
   ],
   "source": [
    "dict1"
   ]
  },
  {
   "cell_type": "code",
   "execution_count": 9,
   "metadata": {},
   "outputs": [
    {
     "name": "stdout",
     "output_type": "stream",
     "text": [
      "Enter key to check:arid\n",
      "not found\n"
     ]
    }
   ],
   "source": [
    "check=input(\"Enter key to check:\")\n",
    "if check in dict1.keys():\n",
    "    print(\"found and the value of the key is:\")\n",
    "    print(dict1[check])\n",
    "else:\n",
    "    print(\"not found\")\n",
    "    "
   ]
  },
  {
   "cell_type": "markdown",
   "metadata": {},
   "source": [
    "# Task 4 Create Dictionary that contains number ranges from 1 to n+1 in the form x:x*x"
   ]
  },
  {
   "cell_type": "code",
   "execution_count": 13,
   "metadata": {},
   "outputs": [
    {
     "name": "stdout",
     "output_type": "stream",
     "text": [
      "Enter the value of last number:5\n",
      "{1: 1, 2: 4, 3: 9, 4: 16, 5: 25}\n"
     ]
    }
   ],
   "source": [
    "x=int(input(\"Enter the value of last number:\"))\n",
    "d={y:y*y for y in range(1,x+1)}\n",
    "    \n",
    "print(d)    "
   ]
  },
  {
   "cell_type": "markdown",
   "metadata": {},
   "source": [
    "# Task 5 sum all items in dictionaries"
   ]
  },
  {
   "cell_type": "code",
   "execution_count": 29,
   "metadata": {},
   "outputs": [
    {
     "name": "stdout",
     "output_type": "stream",
     "text": [
      "937\n"
     ]
    }
   ],
   "source": [
    "Dict5={'A1':5,'B1':56,'C1':90,'D1':786}\n",
    "total=0\n",
    "for i in Dict5.values():\n",
    "    total+=i;\n",
    "print(total)    "
   ]
  },
  {
   "cell_type": "markdown",
   "metadata": {},
   "source": [
    "# Task 6 Multiply all items in dictionary"
   ]
  },
  {
   "cell_type": "markdown",
   "metadata": {},
   "source": [
    "##### "
   ]
  },
  {
   "cell_type": "code",
   "execution_count": 38,
   "metadata": {},
   "outputs": [
    {
     "name": "stdout",
     "output_type": "stream",
     "text": [
      "19807200\n"
     ]
    }
   ],
   "source": [
    "Dict5\n",
    "mul=1\n",
    "for i in Dict5.values():\n",
    "    mul*=i\n",
    "    \n",
    "print(mul)    "
   ]
  },
  {
   "cell_type": "markdown",
   "metadata": {},
   "source": [
    "# Task 7 Remove given key from dictionary"
   ]
  },
  {
   "cell_type": "code",
   "execution_count": 45,
   "metadata": {},
   "outputs": [
    {
     "name": "stdout",
     "output_type": "stream",
     "text": [
      "Enter key to remove:A1\n",
      "{'A1': 5, 'B1': 56, 'C1': 90, 'D1': 786}\n",
      "After Removing key value: \n",
      "{'B1': 56, 'C1': 90, 'D1': 786}\n"
     ]
    }
   ],
   "source": [
    "Dict5={'A1':5,'B1':56,'C1':90,'D1':786}\n",
    "key=input(\"Enter key to remove:\")\n",
    "print(Dict5)\n",
    "Dict5.pop(key)\n",
    "print(\"After Removing key value: \")\n",
    "print(Dict5)"
   ]
  },
  {
   "cell_type": "markdown",
   "metadata": {},
   "source": [
    "# Task 8 Map two List into Dictionary"
   ]
  },
  {
   "cell_type": "code",
   "execution_count": 73,
   "metadata": {},
   "outputs": [
    {
     "data": {
      "text/plain": [
       "{'University': 'UAAR',\n",
       " 'Semester': 'BSCS7',\n",
       " 'Shift': 'Evenig',\n",
       " 'CGPA': '3.4',\n",
       " 'name': 'shiji'}"
      ]
     },
     "execution_count": 73,
     "metadata": {},
     "output_type": "execute_result"
    }
   ],
   "source": [
    "l1=[\"University\",\"Semester\"]\n",
    "l1.extend({\"Shift\",\"CGPA\",\"name\"})\n",
    "l2=[\"UAAR\",\"BSCS7\",\"Evenig\",\"3.4\",\"shiji\"]\n",
    "l1.extend(l2)\n",
    "l3=zip(l1,l2)\n",
    "\n",
    "dict1=dict(l3)\n",
    "dict1\n",
    "\n"
   ]
  },
  {
   "cell_type": "markdown",
   "metadata": {},
   "source": [
    "# Task 9 Frequency of words"
   ]
  },
  {
   "cell_type": "code",
   "execution_count": 78,
   "metadata": {},
   "outputs": [
    {
     "name": "stdout",
     "output_type": "stream",
     "text": [
      "Entetr String .....hello world hello python love python programming\n",
      "{'hello': 2, 'world': 1, 'python': 2, 'love': 1, 'programming': 1}\n"
     ]
    }
   ],
   "source": [
    "str= input(\"Entetr String .....\")\n",
    "l1 =[]\n",
    "l1=str.split()\n",
    "freq=[l1.count(j) for j in l1]\n",
    "l2=zip(l1,freq)\n",
    "print(dict(l2))"
   ]
  },
  {
   "cell_type": "code",
   "execution_count": null,
   "metadata": {},
   "outputs": [],
   "source": [
    "Task 10 "
   ]
  }
 ],
 "metadata": {
  "kernelspec": {
   "display_name": "Python 3",
   "language": "python",
   "name": "python3"
  },
  "language_info": {
   "codemirror_mode": {
    "name": "ipython",
    "version": 3
   },
   "file_extension": ".py",
   "mimetype": "text/x-python",
   "name": "python",
   "nbconvert_exporter": "python",
   "pygments_lexer": "ipython3",
   "version": "3.7.4"
  }
 },
 "nbformat": 4,
 "nbformat_minor": 2
}
