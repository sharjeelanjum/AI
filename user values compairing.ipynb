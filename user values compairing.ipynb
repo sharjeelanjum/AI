{
 "cells": [
  {
   "cell_type": "code",
   "execution_count": 5,
   "metadata": {},
   "outputs": [
    {
     "name": "stdout",
     "output_type": "stream",
     "text": [
      "Enter first value: 3\n",
      "Enter second value4\n",
      "Second value is greater than first\n"
     ]
    }
   ],
   "source": [
    "a=int(input(\"Enter first value: \"))\n",
    "b=int(input(\"Enter second value\"))\n",
    "if(a==b):\n",
    "    print(\"Value one is equal to value 2\")\n",
    "elif(a > b):\n",
    "    print(\"first value is greater than second\")\n",
    "else:\n",
    "    print(\"Second value is greater than first\")\n",
    "    \n"
   ]
  },
  {
   "cell_type": "code",
   "execution_count": null,
   "metadata": {},
   "outputs": [],
   "source": []
  }
 ],
 "metadata": {
  "kernelspec": {
   "display_name": "Python 3",
   "language": "python",
   "name": "python3"
  },
  "language_info": {
   "codemirror_mode": {
    "name": "ipython",
    "version": 3
   },
   "file_extension": ".py",
   "mimetype": "text/x-python",
   "name": "python",
   "nbconvert_exporter": "python",
   "pygments_lexer": "ipython3",
   "version": "3.7.4"
  }
 },
 "nbformat": 4,
 "nbformat_minor": 2
}
