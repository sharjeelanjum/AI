{
 "cells": [
  {
   "cell_type": "code",
   "execution_count": 6,
   "metadata": {},
   "outputs": [
    {
     "name": "stdout",
     "output_type": "stream",
     "text": [
      "Enter user namesharjeel\n",
      "Enter passwordpython123\n",
      "Login succesfull\n"
     ]
    }
   ],
   "source": [
    "u_name=input(\"Enter user name\")\n",
    "u_password=input(\"Enter password\")\n",
    "store_name=\"sharjeel\"\n",
    "store_Password=\"python123\"\n",
    "if(u_name == store_name and u_password == store_Password):\n",
    "    print(\"Login succesfull\")\n",
    "else:\n",
    "    print(\"Please try again!\")\n",
    "    \n",
    "    \n"
   ]
  },
  {
   "cell_type": "code",
   "execution_count": null,
   "metadata": {},
   "outputs": [],
   "source": []
  }
 ],
 "metadata": {
  "kernelspec": {
   "display_name": "Python 3",
   "language": "python",
   "name": "python3"
  },
  "language_info": {
   "codemirror_mode": {
    "name": "ipython",
    "version": 3
   },
   "file_extension": ".py",
   "mimetype": "text/x-python",
   "name": "python",
   "nbconvert_exporter": "python",
   "pygments_lexer": "ipython3",
   "version": "3.7.4"
  }
 },
 "nbformat": 4,
 "nbformat_minor": 2
}
