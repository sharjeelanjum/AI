{
 "cells": [
  {
   "cell_type": "markdown",
   "metadata": {},
   "source": [
    "# Dictionary"
   ]
  },
  {
   "cell_type": "code",
   "execution_count": null,
   "metadata": {},
   "outputs": [],
   "source": [
    "#replacment of list list store data on index which is not meaningful thats why used key in dictionary\n",
    "#order not remain same sometime\n",
    "\n",
    "d={'name':'sharjeel',\n",
    "    'class':'Ai',\n",
    "    'Time':'9am'}\n",
    "d\n"
   ]
  },
  {
   "cell_type": "code",
   "execution_count": null,
   "metadata": {},
   "outputs": [],
   "source": [
    "d2={}\n",
    "d2['id']=1\n",
    "d2['name']=\"sharjeel\"\n",
    "d2['course']=\"Ai\"\n",
    "d2"
   ]
  },
  {
   "cell_type": "code",
   "execution_count": null,
   "metadata": {},
   "outputs": [],
   "source": [
    "d1={}\n",
    "id1=int(input(\"Enter id\"))\n",
    "name=input(\"Enter name\")\n",
    "skilss=input(\"enter course by separeted coma\")\n",
    "skilss.split()\n",
    "#\n",
    "#l1=[]\n",
    "#l1.extend([input(\"Enter course \\n\")])\n",
    "d1['id']=id1\n",
    "d1['name']=name\n",
    "d1['course']=skilss\n",
    "    \n",
    "d1    \n"
   ]
  },
  {
   "cell_type": "code",
   "execution_count": null,
   "metadata": {},
   "outputs": [],
   "source": [
    "d1={}\n",
    "id1=int(input(\"Enter id\"))\n",
    "name=input(\"Enter name\")\n",
    "l1=['python']\n",
    "l1.extend([input(\"Enter course \\n\")])\n",
    "\n",
    "d1['id']=id1\n",
    "d1['name']=name\n",
    "d1['course']=l1\n",
    "\n",
    "    \n",
    "d1    \n",
    "d1.clear()\n",
    "d1\n"
   ]
  },
  {
   "cell_type": "code",
   "execution_count": null,
   "metadata": {},
   "outputs": [],
   "source": []
  },
  {
   "cell_type": "markdown",
   "metadata": {},
   "source": [
    "# List element to keys"
   ]
  },
  {
   "cell_type": "code",
   "execution_count": 16,
   "metadata": {},
   "outputs": [
    {
     "name": "stdout",
     "output_type": "stream",
     "text": [
      "Enter values seprated with comaname,id\n",
      "Enter values seprated with comaahiji,4\n",
      "{'name': 'ahiji', 'id': '4'}\n"
     ]
    },
    {
     "data": {
      "text/plain": [
       "'ahiji'"
      ]
     },
     "execution_count": 16,
     "metadata": {},
     "output_type": "execute_result"
    }
   ],
   "source": [
    "l2=input(\"Enter values seprated with coma\")\n",
    "l2=l2.split(\",\")\n",
    "l3=input(\"Enter values seprated with coma\")\n",
    "l3=l3.split(\",\")\n",
    "l4=list(zip(l2,l3))\n",
    "d1=dict(l4)\n",
    "print(d1)\n",
    "d1['name']\n",
    "\n"
   ]
  },
  {
   "cell_type": "markdown",
   "metadata": {},
   "source": [
    "d1.get('name')"
   ]
  },
  {
   "cell_type": "code",
   "execution_count": 20,
   "metadata": {},
   "outputs": [
    {
     "data": {
      "text/plain": [
       "'ahiji'"
      ]
     },
     "execution_count": 20,
     "metadata": {},
     "output_type": "execute_result"
    }
   ],
   "source": [
    "d1.get('name')"
   ]
  },
  {
   "cell_type": "code",
   "execution_count": 36,
   "metadata": {},
   "outputs": [
    {
     "ename": "AttributeError",
     "evalue": "'dict' object has no attribute 'sorted'",
     "output_type": "error",
     "traceback": [
      "\u001b[1;31m---------------------------------------------------------------------------\u001b[0m",
      "\u001b[1;31mAttributeError\u001b[0m                            Traceback (most recent call last)",
      "\u001b[1;32m<ipython-input-36-f014342e2110>\u001b[0m in \u001b[0;36m<module>\u001b[1;34m\u001b[0m\n\u001b[0;32m      3\u001b[0m    \u001b[1;34m'c'\u001b[0m\u001b[1;33m:\u001b[0m\u001b[1;36m3\u001b[0m\u001b[1;33m,\u001b[0m\u001b[1;33m\u001b[0m\u001b[1;33m\u001b[0m\u001b[0m\n\u001b[0;32m      4\u001b[0m     'd':4}\n\u001b[1;32m----> 5\u001b[1;33m \u001b[1;32mfor\u001b[0m \u001b[0mi\u001b[0m\u001b[1;33m,\u001b[0m\u001b[0mj\u001b[0m \u001b[1;32min\u001b[0m \u001b[0md2\u001b[0m\u001b[1;33m(\u001b[0m\u001b[0md2\u001b[0m\u001b[1;33m.\u001b[0m\u001b[0msorted\u001b[0m\u001b[1;33m,\u001b[0m\u001b[0mreverse\u001b[0m\u001b[1;33m=\u001b[0m\u001b[1;32mTrue\u001b[0m\u001b[1;33m)\u001b[0m\u001b[1;33m:\u001b[0m\u001b[1;33m\u001b[0m\u001b[1;33m\u001b[0m\u001b[0m\n\u001b[0m\u001b[0;32m      6\u001b[0m     \u001b[0mprint\u001b[0m\u001b[1;33m(\u001b[0m\u001b[0mi\u001b[0m\u001b[1;33m,\u001b[0m\u001b[0mj\u001b[0m\u001b[1;33m)\u001b[0m\u001b[1;33m\u001b[0m\u001b[1;33m\u001b[0m\u001b[0m\n\u001b[0;32m      7\u001b[0m \u001b[1;33m\u001b[0m\u001b[0m\n",
      "\u001b[1;31mAttributeError\u001b[0m: 'dict' object has no attribute 'sorted'"
     ]
    }
   ],
   "source": [
    "d2={'a':1,\n",
    "   'b':2,\n",
    "   'c':3,\n",
    "    'd':4}\n",
    "l=list(d2.items())\n",
    "l.sort()\n",
    "l.reverse()\n",
    "\n",
    "for i in range(0):\n",
    "    print(l[i])\n",
    "\n",
    "print(d2)"
   ]
  },
  {
   "cell_type": "code",
   "execution_count": 39,
   "metadata": {},
   "outputs": [
    {
     "name": "stdout",
     "output_type": "stream",
     "text": [
      "('d', 4)\n",
      "('c', 3)\n",
      "('b', 5)\n",
      "('a', 1)\n"
     ]
    }
   ],
   "source": [
    "d2={'a':1,\n",
    "   'b':5,\n",
    "   'c':3,\n",
    "    'd':4}\n",
    "l=list(d2.items())\n",
    "l.sort()\n",
    "l.reverse()\n",
    "\n",
    "for i in range(0,len(l)):\n",
    "    print(l[i])\n",
    "\n"
   ]
  },
  {
   "cell_type": "code",
   "execution_count": null,
   "metadata": {},
   "outputs": [],
   "source": []
  }
 ],
 "metadata": {
  "kernelspec": {
   "display_name": "Python 3",
   "language": "python",
   "name": "python3"
  },
  "language_info": {
   "codemirror_mode": {
    "name": "ipython",
    "version": 3
   },
   "file_extension": ".py",
   "mimetype": "text/x-python",
   "name": "python",
   "nbconvert_exporter": "python",
   "pygments_lexer": "ipython3",
   "version": "3.7.4"
  }
 },
 "nbformat": 4,
 "nbformat_minor": 2
}
